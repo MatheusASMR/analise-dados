{
  "nbformat": 4,
  "nbformat_minor": 0,
  "metadata": {
    "kernelspec": {
      "display_name": "Python 3",
      "language": "python",
      "name": "python3"
    },
    "language_info": {
      "codemirror_mode": {
        "name": "ipython",
        "version": 3
      },
      "file_extension": ".py",
      "mimetype": "text/x-python",
      "name": "python",
      "nbconvert_exporter": "python",
      "pygments_lexer": "ipython3",
      "version": "3.7.4"
    },
    "colab": {
      "name": "1_intro_python.ipynb",
      "provenance": [],
      "collapsed_sections": []
    }
  },
  "cells": [
    {
      "cell_type": "markdown",
      "metadata": {
        "id": "Fd3tIIbjx3l7",
        "colab_type": "text"
      },
      "source": [
        "# Bem-Vindo ao Mundo Python!"
      ]
    },
    {
      "cell_type": "markdown",
      "metadata": {
        "id": "oJWjMePxx3mW",
        "colab_type": "text"
      },
      "source": [
        "## Variáveis e Tipos\n",
        "* Variáveis são **Locais de Memória**;\n",
        "* Os nomes de variáveis devem ser **mnemônicos**, ou seja, de **fácil memorização**;\n",
        "* Variáveis em Python são **\"Case-sensitive\"** e devem escritas com letras minúsculas, sem qualquer tipo de acentuação gráfica;\n",
        "* Nomes compostos de variáveis devem ser separados por subtraço, por exemplo: nome_variavel_composta;\n",
        "* Python é uma linguagem *dinamicamente tipada*, logo, não informamos o tipo de dados durante a declaração de cada variável;\n",
        "\n",
        "### Tipos de Dados Padrão\n",
        "Os tipos de dados primitivos do Python podem ser classificados como: numéricos, sequências, conjuntos e mapeamentos.\n",
        "\n",
        "*Tipos Numéricos*\n",
        "\n",
        "| Nome    | Descrição                    |  Versão               |\n",
        "|:--------|:-----------------------------|:----------------------|\n",
        "| int     | Números Inteiros             | Todas                 |\n",
        "| long    | Números inteiros Longos      | Python 2.x (Somente)  |\n",
        "| float   | Números de Ponto Flutuante   | Todas                 |\n",
        "| complex | Números Complexos            | Todas                 |\n",
        "\n",
        "*Sequências*\n",
        "\n",
        "| Nome         | Descrição                                                  |  Versão               |\n",
        "|:-------------|:-----------------------------------------------------------|:----------------------|\n",
        "| str          | Cadeia de Caracteres (String)                              | Todas                 |\n",
        "| bytes        | Sequência de números inteiros no intervalo de 0 a 255      | Python 3.x (Somente)  |\n",
        "| byte array   | Semelhante ao tipo bytes, porém, mutáveis                  | Python 3.x (Somente)  |\n",
        "| list         | Lista de itens geralmente homogêneos e mutáveis            | Todas                 |\n",
        "| tuple        | Sequência de itens heterogêneos e imutáveis                | Todas                 |\n",
        "\n",
        "*Conjuntos*\n",
        "\n",
        "| Nome       | Descrição                               |  Versão                |\n",
        "|:-----------|:----------------------------------------|:-----------------------|\n",
        "| set        | coleção não ordenada de objetos únicos  | Python 2.6 ou Superior |\n",
        "| frozen set | Semelhante ao tipo set, porém, imutável | Python 2.6 ou Superior |\n",
        "\n",
        "*Mapeamentos*\n",
        "\n",
        "| Nome       | Descrição                               |  Versão                |\n",
        "|:-----------|:----------------------------------------|:-----------------------|\n",
        "| dict       | Dicionários ou Array Associativos       | Todas                  |\n",
        "\n",
        "\n",
        "#### Objetos Mutáveis X Objetos Imutáveis\n",
        "De modo geral, os tipos de dados em Python podem ser diferenciados como mutáveis e imutáveis.\n",
        "\n",
        "- **Objetos Mutáveis:** o conteúdo pode ser alterado após sua criação;\n",
        "- **Objetos Imutáveis:** o conteúdo **não pode ser alterado** após sua criação;\n",
        "\n",
        "| Tipos Mutáveis       | Tipos Imutáveis                         |\n",
        "|:---------------------|:----------------------------------------|\n",
        "| array                | int, float, complex                     |\n",
        "| bytearray            | str                                     |\n",
        "| list                 | bytes                                   |\n",
        "| set                  | tuple                                   |\n",
        "| dict                 | frozenset                               |\n",
        "| -                    | bool                                    |"
      ]
    },
    {
      "cell_type": "code",
      "metadata": {
        "id": "B8WlWy7Kx3ma",
        "colab_type": "code",
        "colab": {}
      },
      "source": [
        "# CONVERSÃO DE TIPO\n",
        "# Aprendendo Conversão de Tipo Com Exemplos\n",
        "\n",
        "# Números Inteiros\n",
        "valor_int_1 = int(2.7) \n",
        "print(valor_int_1) # Saída: 2   \n",
        "\n",
        "valor_int_2 = int(-3.9)\n",
        "print(valor_int_2) # Saída: -3   \n",
        "\n",
        "valor_int_3 = int(\"2\")\n",
        "print(valor_int_3) # Saída: 2  \n",
        "\n",
        "\n",
        "# Números de Ponto Flutuante\n",
        "valor_float_1 = float(7)\n",
        "print(valor_float_1) # Saída: 7.0\n",
        "\n",
        "valor_float_2 = float(\"4.5\")\n",
        "print(valor_float_2) # Saída: 4.5\n",
        "\n",
        "valor_float_4 = float(\"2.7E-2\")\n",
        "print(valor_float_4) # Saída: 0.027\n",
        "\n",
        "valor_float_5 = float(False)\n",
        "print(valor_float_5) # Saída: 0.0\n",
        "\n",
        "valor_float_6 = float(True)\n",
        "print(valor_float_6) # Saída: 1.0\n",
        "\n",
        "\n",
        "# Cadeia de Caracteres\n",
        "valor_string_1 = str(4.5)\n",
        "print(valor_string_1) # Saída: 4.5\n",
        "\n",
        "valor_string_2 = str([1, 2, 3, 4, 5])\n",
        "print(valor_string_2) # Saída: \"[1, 2, 3, 4, 5]\"\n",
        "\n",
        "\n",
        "# Tipos Lógicos (Booleanos)\n",
        "valor_bool_1 = bool(0)\n",
        "print(valor_bool_1) # Saída: False\n",
        "\n",
        "valor_bool_2 = bool(1)\n",
        "print(valor_bool_2) # Saída: True\n",
        "\n",
        "valor_bool_3 = bool([])\n",
        "print(valor_bool_3) # Saída: False - Lista Vazia\n",
        "\n",
        "valor_bool_4 = bool([False])\n",
        "print(valor_bool_4) # Saída: True - Lista Não Vazia\n",
        "\n",
        "valor_bool_5 = bool({})\n",
        "print(valor_bool_5) # Saída: False - Dicionário Vazio, o mesmo para Tupla\n",
        "\n",
        "valor_bool_6 = bool(\"\")\n",
        "print(valor_bool_6) # Saída: False - String Vazia\n",
        "\n",
        "valor_bool_7 = bool(\" \")\n",
        "print(valor_bool_7) # Saída: True - String Não Vazia\n",
        "\n",
        "valor_bool_8 = bool(None)\n",
        "print(valor_bool_8) # Saída: False\n",
        "\n",
        "valor_bool_9 = bool(len)\n",
        "print(valor_bool_9) # Saída: True\n",
        "\n",
        "# Listas e Conjuntos\n",
        "conjunto = set([1, 2])\n",
        "lista = list(conjunto)\n",
        "print(conjunto) # Saída: {1, 2}\n",
        "print(lista)    # Saída: [1, 2]\n",
        "\n",
        "valor_lista_1 = list({0: \"Python\", 1: \"R\"}) # dict: Lista de chaves\n",
        "print(valor_lista_1) # Saída: [0, 1]\n",
        "\n",
        "tupla = tuple(lista)\n",
        "print(tupla) # Saída: (1, 2)\n",
        "\n",
        "valor_lista_2 = list(\"ABC\")\n",
        "print(valor_lista_2) # Saída: ['A', 'B', 'C']"
      ],
      "execution_count": 0,
      "outputs": []
    },
    {
      "cell_type": "markdown",
      "metadata": {
        "id": "2GMVoGJOx3mw",
        "colab_type": "text"
      },
      "source": [
        "## Exercício 1\n",
        "*Calculando o IMC*\n",
        "\n",
        "O Índice de Massa Corporal (IMC) é uma medida internacional usada para calcular se uma pessoa está em seu peso ideal.\n",
        "O cálculo do IMC é determinado pela divisão da massa do indivíduo em quilogramas pelo quadrado de sua altura em metros.\n",
        "\n",
        "\n",
        "\n",
        "$$IMC=\\frac{massa}{(altura * altura)}$$\n",
        "\n",
        "\n",
        "\n",
        "Escreva um programa que leia do usuário sua altura e peso e calcule o seu IMC.\n"
      ]
    },
    {
      "cell_type": "code",
      "metadata": {
        "id": "M6okJnAOx3m0",
        "colab_type": "code",
        "outputId": "4a9fc02a-bfc4-4b92-806e-eb91216e89cb",
        "colab": {
          "base_uri": "https://localhost:8080/",
          "height": 66
        }
      },
      "source": [
        "# TODO: Complete o Código Abaixo\n",
        "altura = int (input ('Altura: '))\n",
        "peso = int (input ('  Peso: '))\n",
        "IMC = peso/(altura*altura)\n",
        "print(\"IMC: \" + str(IMC))"
      ],
      "execution_count": 0,
      "outputs": [
        {
          "output_type": "stream",
          "text": [
            "Altura: 5\n",
            "  Peso: 100\n",
            "IMC: 4.0\n"
          ],
          "name": "stdout"
        }
      ]
    },
    {
      "cell_type": "markdown",
      "metadata": {
        "id": "i8_IDfrnx3nB",
        "colab_type": "text"
      },
      "source": [
        "## Operadores\n",
        "\n",
        "*Operadores Numéricos*\n",
        "\n",
        "| Operador | Descrição       |\n",
        "|:---------|:----------------|\n",
        "| +        | Adição          |\n",
        "| -        | Subtração       |\n",
        "| *        | Multiplicação   |\n",
        "| /        | Divisão         |\n",
        "| **       | Expoente        |\n",
        "| %        | Módulo          |\n",
        "| //       | Divisão de Piso |\n",
        "\n",
        "\n",
        "*Operadores de Comparação*\n",
        "\n",
        "| Operador | Descrição       |\n",
        "|:---------|:----------------|\n",
        "| ==       | Igual           |\n",
        "| !=       | Diferente       |\n",
        "| >        | Maior           |\n",
        "| <        | Menor           |\n",
        "| >=       | Maior Igual     |\n",
        "| <=       | Menor Igual     |\n",
        "\n",
        "\n",
        "*Operadores Lógicos*\n",
        "\n",
        "| Operador | Descrição       |\n",
        "|:---------|:----------------|\n",
        "| and      | AND lógico      |\n",
        "| or       | OR lógico       |\n",
        "| not      | NOT lógico      |\n",
        "\n",
        "*Caracteres Especiais*\n",
        "\n",
        "| Operador | Descrição       |\n",
        "|:---------|:----------------|\n",
        "| #        | Comentário      |\n",
        "| \\n       | Nova Linha      |\n"
      ]
    },
    {
      "cell_type": "markdown",
      "metadata": {
        "id": "sOreUBrNx3nE",
        "colab_type": "text"
      },
      "source": [
        "## Exercícios"
      ]
    },
    {
      "cell_type": "markdown",
      "metadata": {
        "id": "zHW0whsrx3nH",
        "colab_type": "text"
      },
      "source": [
        "1. Escreva um algoritmo que imprima na tela: Olá Mundo!"
      ]
    },
    {
      "cell_type": "code",
      "metadata": {
        "id": "zyte5xllx3nK",
        "colab_type": "code",
        "outputId": "76264e4b-0019-454b-f0fd-8b50e59e4896",
        "colab": {
          "base_uri": "https://localhost:8080/",
          "height": 33
        }
      },
      "source": [
        "print(\"Olá mundo\")"
      ],
      "execution_count": 0,
      "outputs": [
        {
          "output_type": "stream",
          "text": [
            "Olá mundo\n"
          ],
          "name": "stdout"
        }
      ]
    },
    {
      "cell_type": "markdown",
      "metadata": {
        "id": "CuWUuztVx3nb",
        "colab_type": "text"
      },
      "source": [
        "2. Escreva um programa que imprima seu nome na tela."
      ]
    },
    {
      "cell_type": "code",
      "metadata": {
        "id": "D-_PJ9upx3nm",
        "colab_type": "code",
        "outputId": "84bd0eaa-88b0-4506-a6b3-75ec35d80859",
        "colab": {
          "base_uri": "https://localhost:8080/",
          "height": 50
        }
      },
      "source": [
        "Nome = input(\"Qual o seu nome? \")\n",
        "print (\"Seu nome é: \" +Nome)"
      ],
      "execution_count": 0,
      "outputs": [
        {
          "output_type": "stream",
          "text": [
            "Qual o seu nome? Matheus\n",
            "Seu nome é: Matheus\n"
          ],
          "name": "stdout"
        }
      ]
    },
    {
      "cell_type": "markdown",
      "metadata": {
        "id": "WilUYbxax3n5",
        "colab_type": "text"
      },
      "source": [
        "3. O que o código a seguir imprime?\n",
        "\n",
        "```python\n",
        "print(\"*\\n**\\n***\\n****\\n*****\")\n",
        "```"
      ]
    },
    {
      "cell_type": "code",
      "metadata": {
        "id": "rgMdxTiex3n8",
        "colab_type": "code",
        "outputId": "6e01a0ea-b4ea-4571-f4c7-f000e5613de7",
        "colab": {
          "base_uri": "https://localhost:8080/",
          "height": 115
        }
      },
      "source": [
        "print(\"*\\n**\\n***\\n****\\n*****\")\n",
        "print(\"Isso são parágrafos\")"
      ],
      "execution_count": 0,
      "outputs": [
        {
          "output_type": "stream",
          "text": [
            "*\n",
            "**\n",
            "***\n",
            "****\n",
            "*****\n",
            "Isso é um parágrafo\n"
          ],
          "name": "stdout"
        }
      ]
    },
    {
      "cell_type": "markdown",
      "metadata": {
        "id": "tkOn6Pbpx3oM",
        "colab_type": "text"
      },
      "source": [
        "4. O que aparece na janela do console, quando cada uma das instruções abaixo são executadas, para: x = 2 e y = 3? Execute cada uma das linhas abaixos e, se necessário, faça os devidos ajustes no código.\n",
        "    1. *print(“x = ” + x);*\n",
        "    2. *print(“O valor de x + x é ” + (x + x));*\n",
        "    3. *print(“x = ”);*\n",
        "    4. *print((x + y) + “ = “ + (y + x));*\n"
      ]
    },
    {
      "cell_type": "code",
      "metadata": {
        "id": "IIFjtuwAx3oO",
        "colab_type": "code",
        "outputId": "c3985dcc-edf7-43d9-b518-f70b537984f4",
        "colab": {
          "base_uri": "https://localhost:8080/",
          "height": 82
        }
      },
      "source": [
        "x = 2\n",
        "y = 3\n",
        "print(\"x = \" + str(x))\n",
        "print(\"O valor de x + x é \" + str((x + x)))\n",
        "print(\"x = \" + str(x))\n",
        "print(str(x + y) + \" = \" + str(y + x))"
      ],
      "execution_count": 0,
      "outputs": [
        {
          "output_type": "stream",
          "text": [
            "x = 2\n",
            "O valor de x + x é 4\n",
            "x = 2\n",
            "5 = 5\n"
          ],
          "name": "stdout"
        }
      ]
    },
    {
      "cell_type": "markdown",
      "metadata": {
        "id": "ZZIBOARrx3oZ",
        "colab_type": "text"
      },
      "source": [
        "5. Escreva um algoritmo que imprima na tela a seguinte mensagem:\n",
        "\n",
        "> A programação é aprendida escrevendo programas - \n",
        "> Brian Kernighan\n"
      ]
    },
    {
      "cell_type": "code",
      "metadata": {
        "id": "_C-st9mix3oc",
        "colab_type": "code",
        "outputId": "900e83c9-2668-46e1-cfc8-4e55e886b2f8",
        "colab": {
          "base_uri": "https://localhost:8080/",
          "height": 33
        }
      },
      "source": [
        "print (\"A programação é aprendida escrevendo programas - Brian Kernighan\")"
      ],
      "execution_count": 0,
      "outputs": [
        {
          "output_type": "stream",
          "text": [
            "A programação é aprendida escrevendo programas - Brian Kernighan\n"
          ],
          "name": "stdout"
        }
      ]
    },
    {
      "cell_type": "markdown",
      "metadata": {
        "id": "bhBNW5Txx3ou",
        "colab_type": "text"
      },
      "source": [
        "6. Crie um algoritmo que imprima o produto entre os números 25 e 27"
      ]
    },
    {
      "cell_type": "code",
      "metadata": {
        "id": "GumVSEi0x3ox",
        "colab_type": "code",
        "outputId": "d43f61d2-cd7c-4974-eaf4-dd90f375d448",
        "colab": {
          "base_uri": "https://localhost:8080/",
          "height": 33
        }
      },
      "source": [
        "m = 25\n",
        "k = 27\n",
        "mk = m + k\n",
        "print(mk)"
      ],
      "execution_count": 0,
      "outputs": [
        {
          "output_type": "stream",
          "text": [
            "52\n"
          ],
          "name": "stdout"
        }
      ]
    },
    {
      "cell_type": "markdown",
      "metadata": {
        "id": "AIkRhylKx3o8",
        "colab_type": "text"
      },
      "source": [
        "7. Crie um algoritmo que imprima a média aritmética entre os números 4, 12, 15."
      ]
    },
    {
      "cell_type": "code",
      "metadata": {
        "id": "OBeFxL72x3o-",
        "colab_type": "code",
        "outputId": "0273e680-b8fd-45a0-8fbc-5b732b116c8d",
        "colab": {
          "base_uri": "https://localhost:8080/",
          "height": 33
        }
      },
      "source": [
        "q = 4\n",
        "d = 12\n",
        "q2 =15\n",
        "soma = q + d + q2\n",
        "result = int(soma)/3\n",
        "print(result)"
      ],
      "execution_count": 0,
      "outputs": [
        {
          "output_type": "stream",
          "text": [
            "10.333333333333334\n"
          ],
          "name": "stdout"
        }
      ]
    },
    {
      "cell_type": "markdown",
      "metadata": {
        "id": "bld21YYqx3pL",
        "colab_type": "text"
      },
      "source": [
        "8. Faça um programa que leia um número inteiro e mostre-o na tela da seguinte forma: \n",
        "\n",
        "> O número inteiro digitado foi 4."
      ]
    },
    {
      "cell_type": "code",
      "metadata": {
        "id": "HAaxaSdFx3pO",
        "colab_type": "code",
        "outputId": "3c7b9bee-240c-43e3-e8dd-781a90728377",
        "colab": {
          "base_uri": "https://localhost:8080/",
          "height": 50
        }
      },
      "source": [
        "num = input (\"Number: \")\n",
        "print(\"O número inteiro digitado foi \" + str(num) + \".\")"
      ],
      "execution_count": 0,
      "outputs": [
        {
          "output_type": "stream",
          "text": [
            "Number: 59\n",
            "O número inteiro digitado foi 59.\n"
          ],
          "name": "stdout"
        }
      ]
    },
    {
      "cell_type": "markdown",
      "metadata": {
        "id": "sWNljnvvx3pa",
        "colab_type": "text"
      },
      "source": [
        "9. Faça um programa que leia e imprima dois números inteiros na tela."
      ]
    },
    {
      "cell_type": "code",
      "metadata": {
        "id": "zxI8Aqs8x3pf",
        "colab_type": "code",
        "outputId": "0becfedd-7968-4bbc-8ba8-98b10d7eb827",
        "colab": {
          "base_uri": "https://localhost:8080/",
          "height": 82
        }
      },
      "source": [
        "num1 = input (\"Num1: \")\n",
        "num2 = input (\"Num2: \")\n",
        "print(num1 + \"\\n\" + num2)"
      ],
      "execution_count": 0,
      "outputs": [
        {
          "output_type": "stream",
          "text": [
            "Num1: 7\n",
            "Num2: 5\n",
            "7\n",
            "5\n"
          ],
          "name": "stdout"
        }
      ]
    },
    {
      "cell_type": "markdown",
      "metadata": {
        "id": "xwVwz9ZGx3px",
        "colab_type": "text"
      },
      "source": [
        "10. Faça um programa que leia um número inteiro e imprima seu número sucessor e antecessor."
      ]
    },
    {
      "cell_type": "code",
      "metadata": {
        "id": "cMgKz2Rmx3pz",
        "colab_type": "code",
        "outputId": "d957121b-7d96-4c6c-84da-b1e0557868bf",
        "colab": {
          "base_uri": "https://localhost:8080/",
          "height": 50
        }
      },
      "source": [
        "num = input (\"Digite um número: \")\n",
        "numais = int(num) + 1\n",
        "numenos = int(num) - 1\n",
        "print( str(numenos) + \" - \" + str(num) + \" - \" + str(numais) )"
      ],
      "execution_count": 0,
      "outputs": [
        {
          "output_type": "stream",
          "text": [
            "Digite um número: 654\n",
            "654 - 655 - 653\n"
          ],
          "name": "stdout"
        }
      ]
    },
    {
      "cell_type": "markdown",
      "metadata": {
        "id": "vHYtMVnfx3p9",
        "colab_type": "text"
      },
      "source": [
        "11. Faça um programa que leia o nome, endereço e telefone de um usuário e imprima na tela."
      ]
    },
    {
      "cell_type": "code",
      "metadata": {
        "id": "jepRkQG2x3qA",
        "colab_type": "code",
        "outputId": "d03d0e44-e516-4bd4-cb0d-8583073c7fb2",
        "colab": {
          "base_uri": "https://localhost:8080/",
          "height": 115
        }
      },
      "source": [
        "nome = input(\"Digite teu nome: \")\n",
        "endereco = input(\"Digite teu endereço: \")\n",
        "telefone = input(\"Digite teu telefone: \")\n",
        "print (\"Nome: \" + str(nome) + \"\\nEndereço: \" + str(endereco) + \"\\nTelefone: \" + str(telefone))"
      ],
      "execution_count": 0,
      "outputs": [
        {
          "output_type": "stream",
          "text": [
            "Digite teu nome: Sofia\n",
            "Digite teu endereço: Dinamarca\n",
            "Digite teu telefone: 222 573 008 468\n",
            "Nome: Sofia\n",
            "Endereço: Dinamarca\n",
            "Telefone: 222 573 008 468\n"
          ],
          "name": "stdout"
        }
      ]
    },
    {
      "cell_type": "markdown",
      "metadata": {
        "id": "9SNTALhnx3qK",
        "colab_type": "text"
      },
      "source": [
        "12. Faça um programa que leia e multiplique dois números inteiros."
      ]
    },
    {
      "cell_type": "code",
      "metadata": {
        "id": "YC-Kr4YOx3qR",
        "colab_type": "code",
        "outputId": "b29353a9-8d31-4f40-8019-0dae148b2dcf",
        "colab": {
          "base_uri": "https://localhost:8080/",
          "height": 66
        }
      },
      "source": [
        "num1 = input(\"Digite o primeiro número: \")\n",
        "num2 = input(\"Digite o segundo número: \")\n",
        "mult = int(num1) * int(num2)\n",
        "print(\"Resultado: \" + str(mult))"
      ],
      "execution_count": 0,
      "outputs": [
        {
          "output_type": "stream",
          "text": [
            "Digite o primeiro número: 5\n",
            "Digite o segundo número: 0\n",
            "Resultado: 0\n"
          ],
          "name": "stdout"
        }
      ]
    },
    {
      "cell_type": "markdown",
      "metadata": {
        "id": "Bfs3ld6ex3qc",
        "colab_type": "text"
      },
      "source": [
        "13. Faça um programa que leia um número real e imprima a terça parte deste número."
      ]
    },
    {
      "cell_type": "code",
      "metadata": {
        "id": "MmtIYjqax3qj",
        "colab_type": "code",
        "outputId": "8b9de96d-d795-445a-d420-980bcf724720",
        "colab": {
          "base_uri": "https://localhost:8080/",
          "height": 50
        }
      },
      "source": [
        "num = input(\"Digite um número: \")\n",
        "terca = float(num)/3\n",
        "print(terca)"
      ],
      "execution_count": 0,
      "outputs": [
        {
          "output_type": "stream",
          "text": [
            "Digite um número: 9\n",
            "3.0\n"
          ],
          "name": "stdout"
        }
      ]
    },
    {
      "cell_type": "markdown",
      "metadata": {
        "id": "_SQZmezIx3qs",
        "colab_type": "text"
      },
      "source": [
        "14. Faça um programa que leia dois números inteiros e imprima o dividendo, divisor, quociente e resto da divisão"
      ]
    },
    {
      "cell_type": "code",
      "metadata": {
        "id": "MuIdbbiEx3q0",
        "colab_type": "code",
        "outputId": "161e8fe2-886f-4f68-9a9a-8d63e531a8bd",
        "colab": {
          "base_uri": "https://localhost:8080/",
          "height": 119
        }
      },
      "source": [
        "dividendo = input(\"Dividendo: \")\n",
        "divisor = input(\"Divisor: \")\n",
        "quociente = int(dividendo)/int(divisor)\n",
        "quociente = int(quociente)\n",
        "resto = int(dividendo) % int(divisor)\n",
        "print(str(dividendo) + \"\\n\" + str(divisor) + \"\\n\" + str(quociente) + \"\\n\" + str(resto))\n",
        "\n"
      ],
      "execution_count": 0,
      "outputs": [
        {
          "output_type": "stream",
          "text": [
            "Dividendo: 10\n",
            "Divisor: 3\n",
            "10\n",
            "3\n",
            "3\n",
            "1\n"
          ],
          "name": "stdout"
        }
      ]
    },
    {
      "cell_type": "markdown",
      "metadata": {
        "id": "OoVhTWAtx3q-",
        "colab_type": "text"
      },
      "source": [
        "15. Escreva um programa que solicite do usuário dois números, e imprima o resultado da soma, subtração, multiplicação e divisão."
      ]
    },
    {
      "cell_type": "code",
      "metadata": {
        "id": "D9rUyB2ux3rC",
        "colab_type": "code",
        "outputId": "654a2311-f564-43de-c196-65a5c5adaa7c",
        "colab": {
          "base_uri": "https://localhost:8080/",
          "height": 119
        }
      },
      "source": [
        "num1 = int(input (\"Digite o primeiro número: \"))\n",
        "num2 = int(input (\"Digite o segundo número: \"))\n",
        "soma = num1 + num2 \n",
        "sub = num1 - num2\n",
        "multi = num1 * num2\n",
        "div = num1 / num2\n",
        "print(str(soma) + \"\\n\" + str(sub) + \"\\n\" + str(multi) + \"\\n\" + str(div))"
      ],
      "execution_count": 0,
      "outputs": [
        {
          "output_type": "stream",
          "text": [
            "Digite o primeiro número: 10\n",
            "Digite o segundo número: 5\n",
            "15\n",
            "5\n",
            "50\n",
            "2.0\n"
          ],
          "name": "stdout"
        }
      ]
    },
    {
      "cell_type": "markdown",
      "metadata": {
        "id": "rsP6Lc-7x3rP",
        "colab_type": "text"
      },
      "source": [
        "16. Faça um programa que leia quatro números inteiros, calcule e mostre a soma desses números."
      ]
    },
    {
      "cell_type": "code",
      "metadata": {
        "id": "4zyXxoEUx3rS",
        "colab_type": "code",
        "outputId": "b6049d8f-28d9-4ee5-99be-461d45f45514",
        "colab": {
          "base_uri": "https://localhost:8080/",
          "height": 102
        }
      },
      "source": [
        "num1 = int(input (\"Digite o primeiro número: \"))\n",
        "num2 = int(input (\"Digite o segundo número: \"))\n",
        "num3 = int(input (\"Digite o terceiro número: \"))\n",
        "num4 = int(input (\"Digite o quarto número: \"))\n",
        "soma = num1+num2+num3+num4\n",
        "print(soma)"
      ],
      "execution_count": 0,
      "outputs": [
        {
          "output_type": "stream",
          "text": [
            "Digite o primeiro número: 1\n",
            "Digite o segundo número: 2\n",
            "Digite o terceiro número: 3\n",
            "Digite o quarto número: 4\n",
            "10\n"
          ],
          "name": "stdout"
        }
      ]
    },
    {
      "cell_type": "markdown",
      "metadata": {
        "id": "OZu7YrP6x3re",
        "colab_type": "text"
      },
      "source": [
        "17. Faça um programa que receba três notas, calcule e mostre a média aritmética."
      ]
    },
    {
      "cell_type": "code",
      "metadata": {
        "id": "DQRE8v3nx3rj",
        "colab_type": "code",
        "outputId": "d9fe2837-b8f0-46eb-8212-884fb334c786",
        "colab": {
          "base_uri": "https://localhost:8080/",
          "height": 85
        }
      },
      "source": [
        "num1 = int(input (\"Digite o primeiro nota: \"))\n",
        "num2 = int(input (\"Digite o segundo nota: \"))\n",
        "num3 = int(input (\"Digite o terceiro nota: \"))\n",
        "media = (num1+num2+num3)/3\n",
        "print(media)"
      ],
      "execution_count": 0,
      "outputs": [
        {
          "output_type": "stream",
          "text": [
            "Digite o primeiro nota: 6\n",
            "Digite o segundo nota: 6\n",
            "Digite o terceiro nota: 6\n",
            "6.0\n"
          ],
          "name": "stdout"
        }
      ]
    },
    {
      "cell_type": "markdown",
      "metadata": {
        "id": "QsZbJi5tx3rw",
        "colab_type": "text"
      },
      "source": [
        "18. Faça um programa que receba três notas e seus respectivos pesos, calcule e mostre a média ponderada."
      ]
    },
    {
      "cell_type": "code",
      "metadata": {
        "id": "jvXkxltFx3rz",
        "colab_type": "code",
        "outputId": "a24a4478-a3bf-43f1-a2b5-cf349911f670",
        "colab": {
          "base_uri": "https://localhost:8080/",
          "height": 136
        }
      },
      "source": [
        "num1 = int(input (\"Digite o primeiro nota: \"))\n",
        "num2 = int(input (\"Digite o segundo nota: \"))\n",
        "num3 = int(input (\"Digite o terceiro nota: \"))\n",
        "num4 = int(input (\"Digite o primeiro peso: \"))\n",
        "num5 = int(input (\"Digite o segundo peso: \"))\n",
        "num6 = int(input (\"Digite o terceiro peso: \"))\n",
        "nota = (num1+num2+num3)\n",
        "peso = (num4+num5+num6)\n",
        "media = nota/peso\n",
        "print(media)"
      ],
      "execution_count": 0,
      "outputs": [
        {
          "output_type": "stream",
          "text": [
            "Digite o primeiro nota: 10\n",
            "Digite o segundo nota: 10\n",
            "Digite o terceiro nota: 10\n",
            "Digite o primeiro peso: 5\n",
            "Digite o segundo peso: 5\n",
            "Digite o terceiro peso: 5\n",
            "2.0\n"
          ],
          "name": "stdout"
        }
      ]
    },
    {
      "cell_type": "markdown",
      "metadata": {
        "id": "bF4KBiOKx3sB",
        "colab_type": "text"
      },
      "source": [
        "19. Faça um programa que receba o salário de um funcionário, calcule e mostre o novo salário, sabendo-se que este sofreu um aumento de 25%."
      ]
    },
    {
      "cell_type": "code",
      "metadata": {
        "id": "R2HUvx7dx3sD",
        "colab_type": "code",
        "outputId": "b6a04201-3543-4588-c326-9a376703a744",
        "colab": {
          "base_uri": "https://localhost:8080/",
          "height": 51
        }
      },
      "source": [
        "salario = int(input (\"Digite o valor do salario: \"))\n",
        "novosalario = (salario*0.25)+salario\n",
        "print(novosalario)"
      ],
      "execution_count": 0,
      "outputs": [
        {
          "output_type": "stream",
          "text": [
            "Digite o valor do salario: 1000\n",
            "1250.0\n"
          ],
          "name": "stdout"
        }
      ]
    },
    {
      "cell_type": "markdown",
      "metadata": {
        "id": "XxLYp6ktx3sO",
        "colab_type": "text"
      },
      "source": [
        "20. Faça um programa que receba o salário de um funcionário e o percentual de aumento, calcule e mostre o valor do aumento e o novo salário. "
      ]
    },
    {
      "cell_type": "code",
      "metadata": {
        "id": "vPkXYl5_x3sT",
        "colab_type": "code",
        "outputId": "c57fb3ce-f43f-4a5f-9f9c-fad9a5866329",
        "colab": {
          "base_uri": "https://localhost:8080/",
          "height": 68
        }
      },
      "source": [
        "salario = float(input (\"Digite o valor do salario: \"))\n",
        "vpercentual = int(input (\"Digite o valor do percentual de aumento: \"))\n",
        "percentual = vpercentual/100\n",
        "novosalario = (salario*percentual)+salario\n",
        "print(novosalario)"
      ],
      "execution_count": 0,
      "outputs": [
        {
          "output_type": "stream",
          "text": [
            "Digite o valor do salario: 1000\n",
            "Digite o valor do percentual de aumento: 25\n",
            "1250.0\n"
          ],
          "name": "stdout"
        }
      ]
    },
    {
      "cell_type": "markdown",
      "metadata": {
        "id": "NyH0l8rSx3sk",
        "colab_type": "text"
      },
      "source": [
        "21. Faça um programa que receba o salário base de um funcionário, calcule e mostre o salário a receber, sabendo-se que o funcionário tem gratificação de 5% sobre o salário base e paga imposto de 7% também sobre o salário base."
      ]
    },
    {
      "cell_type": "code",
      "metadata": {
        "id": "ysRbP5SUx3sn",
        "colab_type": "code",
        "outputId": "b4f2297c-a28e-44b4-f876-8f1fb79ae8fc",
        "colab": {
          "base_uri": "https://localhost:8080/",
          "height": 102
        }
      },
      "source": [
        "salario = float(input (\"Digite o valor do salario: \"))\n",
        "gratificacao = (salario*0.05)\n",
        "imposto = (salario*0.07)\n",
        "novosalario = salario-(imposto-gratificacao)\n",
        "print(\"Salário base: \" + str(salario) + \"\\nGratificação: \" + str(gratificacao) + \"\\nImposto: \" + str(imposto) + \"\\nNovo Salário: \" + str(novosalario))"
      ],
      "execution_count": 0,
      "outputs": [
        {
          "output_type": "stream",
          "text": [
            "Digite o valor do salario: 1000\n",
            "Salário base: 1000.0\n",
            "Gratificação: 50.0\n",
            "Imposto: 70.0\n",
            "Novo Salário: 980.0\n"
          ],
          "name": "stdout"
        }
      ]
    },
    {
      "cell_type": "markdown",
      "metadata": {
        "id": "kYkY8ofDx3sx",
        "colab_type": "text"
      },
      "source": [
        "22. Faça um programa que receba o salário base de um funcionário, calcule e mostre seu salário a receber, sabendo-se que o funcionário tem gratificação de R$ 50,00 e paga imposto de 10% sobre o salário base."
      ]
    },
    {
      "cell_type": "code",
      "metadata": {
        "id": "zsm1snsHx3s0",
        "colab_type": "code",
        "outputId": "0f0ef5c0-e83f-4ab0-9511-f4f5b4c5c264",
        "colab": {
          "base_uri": "https://localhost:8080/",
          "height": 102
        }
      },
      "source": [
        "salario = float(input (\"Digite o valor do salario: \"))\n",
        "gratificacao = 50\n",
        "imposto = (salario*0.10)\n",
        "novosalario = salario-(imposto-gratificacao)\n",
        "print(\"Salário base: \" + str(salario) + \"\\nGratificação: 50.00\\nImposto: \" + str(imposto) + \"\\nNovo Salário: \" + str(novosalario))"
      ],
      "execution_count": 0,
      "outputs": [
        {
          "output_type": "stream",
          "text": [
            "Digite o valor do salario: 100\n",
            "Salário base: 100.0\n",
            "Gratificação: R$50.00\n",
            "Imposto: 10.0\n",
            "Novo Salário: 140.0\n"
          ],
          "name": "stdout"
        }
      ]
    },
    {
      "cell_type": "markdown",
      "metadata": {
        "id": "5GyUlSHZx3s-",
        "colab_type": "text"
      },
      "source": [
        "23. Faça um programa que receba o valor de um depósito e o valor da taxa de juros, calcule e mostre o valor do rendimento e o valor total depois do rendimento."
      ]
    },
    {
      "cell_type": "code",
      "metadata": {
        "id": "AAKvYr1Tx3tO",
        "colab_type": "code",
        "outputId": "2430670a-3880-41a8-a573-924091ca1f79",
        "colab": {
          "base_uri": "https://localhost:8080/",
          "height": 153
        }
      },
      "source": [
        "deposito = float(input (\"Digite o valor do depósito: \"))\n",
        "juros = float(input (\"Digite o valor do juros: \"))\n",
        "rendimento = float(input (\"Digite o valor do rendimento: \"))\n",
        "valor = deposito + ((juros/100*deposito) + (rendimento/100*deposito))\n",
        "print(\"\\nDepósito: \" + str(deposito) + \"\\nJuros: \" + str(juros) + \"\\nRendimento: \" + str(rendimento) + \"\\nNovo Salário: \" + str(valor))\n"
      ],
      "execution_count": 0,
      "outputs": [
        {
          "output_type": "stream",
          "text": [
            "Digite o valor do depósito: 100\n",
            "Digite o valor do juros: 25\n",
            "Digite o valor do rendimento: 50\n",
            "\n",
            "Depósito: 100.0\n",
            "Juros: 25.0\n",
            "Rendimento: 50.0\n",
            "Novo Salário: 175.0\n"
          ],
          "name": "stdout"
        }
      ]
    },
    {
      "cell_type": "markdown",
      "metadata": {
        "id": "vzUSm1Gkx3tX",
        "colab_type": "text"
      },
      "source": [
        "24. Faça um programa que calcule e mostre a área de um triângulo. Sabe-se que: \n",
        "> Área = (base * altura) / 2."
      ]
    },
    {
      "cell_type": "code",
      "metadata": {
        "id": "RwSSGVdmx3tc",
        "colab_type": "code",
        "outputId": "157f59b3-df20-4fd3-bab7-db7b5aa535f2",
        "colab": {
          "base_uri": "https://localhost:8080/",
          "height": 68
        }
      },
      "source": [
        "area = int(input (\"Digite o valor do base: \"))*int(input (\"Digite o valor da altura: \"))/2\n",
        "print(area)"
      ],
      "execution_count": 0,
      "outputs": [
        {
          "output_type": "stream",
          "text": [
            "Digite o valor do base: 10\n",
            "Digite o valor da altura: 5\n",
            "25.0\n"
          ],
          "name": "stdout"
        }
      ]
    },
    {
      "cell_type": "markdown",
      "metadata": {
        "id": "c-MOdEqvx3tl",
        "colab_type": "text"
      },
      "source": [
        "25. Escreva um programa que receba como entrada o raio de um círculo e imprima o diâmetro, a circunferência e a área. Para isso, utilize as fórmulas: diâmetro = 2r; circunferência = 2πr, área = πr²."
      ]
    },
    {
      "cell_type": "code",
      "metadata": {
        "id": "KjxGy5sdx3tn",
        "colab_type": "code",
        "outputId": "57b3138c-d8b5-43c8-97c6-3d1e218f8546",
        "colab": {
          "base_uri": "https://localhost:8080/",
          "height": 85
        }
      },
      "source": [
        "import math\n",
        "raio = int(input(\"Digite o valor do Raio: \"))\n",
        "print(\"Diametro = \" + str(raio*2))\n",
        "print(\"Circunferência = \" + str(2*raio*math.pi))\n",
        "print(\"Área = \" + str(math.pi*raio**2))"
      ],
      "execution_count": 0,
      "outputs": [
        {
          "output_type": "stream",
          "text": [
            "Digite o valor do Raio: 1\n",
            "Diametro = 2\n",
            "Circunferência = 6.283185307179586\n",
            "Área = 3.141592653589793\n"
          ],
          "name": "stdout"
        }
      ]
    },
    {
      "cell_type": "markdown",
      "metadata": {
        "id": "HV9wLDRpx3tt",
        "colab_type": "text"
      },
      "source": [
        "26. Faça um programa que receba um número positivo e maior que zero, calcule e mostre:\n",
        "    1. o número digitado ao quadrado;\n",
        "    2. o número digitado ao cubo;\n",
        "    3. a raiz quadrada do número digitado.\n"
      ]
    },
    {
      "cell_type": "code",
      "metadata": {
        "id": "tLoCITfEx3t1",
        "colab_type": "code",
        "outputId": "babe352f-de52-426f-8daf-13a04ff1f2b2",
        "colab": {
          "base_uri": "https://localhost:8080/",
          "height": 51
        }
      },
      "source": [
        "num = float(input(\"Digite um número maior que zero: \"))\n",
        "if (num > 0):\n",
        "  quadrado = num**2\n",
        "  cubo = num**3\n",
        "  raiz = num**(1/2)\n",
        "  print(\"Quadrado: \" + str(quadrado) + \"\\nCubo: \" + str(cubo) + \"\\nRaiz Quadrada: \" + str(raiz))\n",
        "else:\n",
        "  print(\"O número digitado é menor ou igual a 0\")\n"
      ],
      "execution_count": 0,
      "outputs": [
        {
          "output_type": "stream",
          "text": [
            "Digite um número maior que zero: 0\n",
            "O número digitado é menor ou igual a 0\n"
          ],
          "name": "stdout"
        }
      ]
    },
    {
      "cell_type": "markdown",
      "metadata": {
        "id": "mDbNX_w8x3t8",
        "colab_type": "text"
      },
      "source": [
        "27. Faça um programa que receba dois números maiores que zero, calcule e mostre um elevado ao outro."
      ]
    },
    {
      "cell_type": "code",
      "metadata": {
        "id": "yfOZjKDTx3uO",
        "colab_type": "code",
        "outputId": "5415fda8-a5c0-4d1e-b17a-f198b783bb00",
        "colab": {
          "base_uri": "https://localhost:8080/",
          "height": 85
        }
      },
      "source": [
        "num1 = float(input(\"Digite um número maior que zero: \"))\n",
        "num2 = float(input(\"Digite outro número maior que zero: \"))\n",
        "if (num1 <=0 or num2 <= 0):\n",
        "  print(\"Algum digitado é menor ou igual a 0\")\n",
        "else:\n",
        "  num12 = num1**num2\n",
        "  num21 = num2**num1\n",
        "  print(str(num12) + \"\\n\" + str(num21))"
      ],
      "execution_count": 0,
      "outputs": [
        {
          "output_type": "stream",
          "text": [
            "Digite um número maior que zero: 2\n",
            "Digite outro número maior que zero: 3\n",
            "8.0\n",
            "9.0\n"
          ],
          "name": "stdout"
        }
      ]
    },
    {
      "cell_type": "markdown",
      "metadata": {
        "id": "__xt0Knmx3ua",
        "colab_type": "text"
      },
      "source": [
        "28. Sabe-se que: pé = 12 polegadas; 1 jarda = 3 pés e 1 milha = 1,760 jarda. Faça um programa que receba uma medida em pés, faça as conversões a seguir e mostre os resultados.\n",
        "    1. polegadas;\n",
        "    2. jardas;\n",
        "    3. milhas.\n"
      ]
    },
    {
      "cell_type": "code",
      "metadata": {
        "id": "JKKtSpGCx3uc",
        "colab_type": "code",
        "outputId": "639a596c-2c7c-4a3b-99ae-1ce2358ddb39",
        "colab": {
          "base_uri": "https://localhost:8080/",
          "height": 85
        }
      },
      "source": [
        "pes = float(input(\"Digite uma medida em pés: \"))\n",
        "polegadas = pes/12\n",
        "jardas = pes/3\n",
        "milhas = jardas/1760\n",
        "print(\"Polegadas: \" + str(polegadas) + \"\\nJardas: \" + str(jardas) + \"\\nMilhas: \" + str(milhas))"
      ],
      "execution_count": 0,
      "outputs": [
        {
          "output_type": "stream",
          "text": [
            "Digite uma medida em pés: 1\n",
            "Polegadas: 0.08333333333333333\n",
            "Jardas: 0.3333333333333333\n",
            "Milhas: 0.0001893939393939394\n"
          ],
          "name": "stdout"
        }
      ]
    },
    {
      "cell_type": "markdown",
      "metadata": {
        "id": "NUeipajKx3uj",
        "colab_type": "text"
      },
      "source": [
        "29. Escreva um programa que receba como entrada um número de 5 dígitos, separe o número em dígitos individuais e os imprima separados por 3 espaços cada um. Por exemplo, se o usuário digitar 42339, o programa deverá imprimir: 4    2    3    3.   Dica: utilize as operações de divisão e módulo para extrair cada dígito do número."
      ]
    },
    {
      "cell_type": "code",
      "metadata": {
        "id": "Ljyq__Owx3um",
        "colab_type": "code",
        "outputId": "2187c00b-e849-4e75-aa2e-bb0bf1697999",
        "colab": {
          "base_uri": "https://localhost:8080/",
          "height": 51
        }
      },
      "source": [
        "num = int(input(\"Digite um número com 5 caractéres: \"))\n",
        "if (len(str(num)) == 5 ):\n",
        "  num1 = num//10000%10\n",
        "  num2 = num//1000%10\n",
        "  num3 = num//100%10\n",
        "  num4 = num//10%10\n",
        "  num5 = num//1%10\n",
        "  print(str(num1) + \"   \" + str(num2) + \"   \" + str(num3) + \"   \" + str(num4) + \"   \" + str(num5))\n",
        "else:\n",
        "    print(\"Algo foi digitado incorretamente\")\n",
        "\n",
        "\n"
      ],
      "execution_count": 1,
      "outputs": [
        {
          "output_type": "stream",
          "text": [
            "Digite um número com 5 caractéres: 12345\n",
            "1   2   3   4   5\n"
          ],
          "name": "stdout"
        }
      ]
    }
  ]
}