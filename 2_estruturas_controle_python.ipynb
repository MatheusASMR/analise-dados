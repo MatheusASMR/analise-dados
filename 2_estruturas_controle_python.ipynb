{
  "nbformat": 4,
  "nbformat_minor": 0,
  "metadata": {
    "kernelspec": {
      "display_name": "Python 3",
      "language": "python",
      "name": "python3"
    },
    "language_info": {
      "codemirror_mode": {
        "name": "ipython",
        "version": 3
      },
      "file_extension": ".py",
      "mimetype": "text/x-python",
      "name": "python",
      "nbconvert_exporter": "python",
      "pygments_lexer": "ipython3",
      "version": "3.7.4"
    },
    "colab": {
      "name": "2_estruturas_controle_python.ipynb",
      "provenance": [],
      "collapsed_sections": []
    }
  },
  "cells": [
    {
      "cell_type": "markdown",
      "metadata": {
        "id": "A8KG5eoH2g5R",
        "colab_type": "text"
      },
      "source": [
        "## Estruturas de Controle \n",
        "\n",
        "\n",
        "### Estruturas de Seleção\n",
        "\n",
        "As estruturas de seleção *if* e *if/else* são usadas para controle da execução sequêncial de um programa. \n",
        "Na prática, se uma determinada condição lógica for avaliada como verdadeira, o interpretador Python executa todos os comandos dentro do bloco da estrutura de seleção. \n",
        "Em Python, para a estruturas de seleção única usamos a palavra-chave *if* e para estruturas de seleção múltiplas usamos o nome *elsif*. \n",
        "\n",
        "```python\n",
        " if condicao1:\n",
        "    # Executa quando a condição1 for verdadeira\n",
        " elif condicao2:\n",
        "    # Executa quando a condição2 for verdadeira\n",
        " else:\n",
        "    # Executa quando todas condições não forem satisfeitas\n",
        "```\n",
        "\n",
        "### Estruturas de Repetição\n",
        "\n",
        "O Python possui duas estruturas de repetição, são elas: *for* e *while*. A estrutura de repetição *for*, em sua sintaxe, difere um pouco, por exemplo, das linguagens de programação baseadas em C, onde definimos uma condição de parada (i < n) e um passo de iteração (i++). O comando *for* é usado para percorrer os itens de qualquer sequência (p. ex.: lista, string ou tupla) para que eles apareçam em série ou simplesmente como um laço de repetição (*loop*). "
      ]
    },
    {
      "cell_type": "code",
      "metadata": {
        "id": "505prYCa2g5f",
        "colab_type": "code",
        "colab": {}
      },
      "source": [
        "cores  = [\"Vermelho\", \"Laranja\", \"Amarelo\", \"Verde\", \"Azul\", \"Anil\", \"Violeta\"]\n",
        "\n",
        "for cor in cores:\n",
        "    print(\"Eu ♥ \" + cor)"
      ],
      "execution_count": 0,
      "outputs": []
    },
    {
      "cell_type": "markdown",
      "metadata": {
        "id": "6CnRaf3r2g5t",
        "colab_type": "text"
      },
      "source": [
        "Se você possui alguma experiência anterior com programação, deve estar se perguntando neste exato momento, como podemos percorrer os itens de uma sequência usando índices? Para tal, podemos utilizar a função range() em conjunto com a função len(). A função *range(start, stop, step)* do Python, retorna uma sequência de números, começando em 0 (zero) por padrão, e incrementando de um em um, até o fim de um número especificado como parâmetro. A função len(), por sua vez, retorna o número de itens de uma determina sequência. Acompanhe abaixo, alguns exemplos de como essas funções podem ser usadas em conjunto com a instrução *for* para indexar itens de uma lista."
      ]
    },
    {
      "cell_type": "code",
      "metadata": {
        "id": "o0xo14py2g5w",
        "colab_type": "code",
        "colab": {}
      },
      "source": [
        "# EXEMPLOS - Função range()\n",
        "lista1 = range(5)\n",
        "lista2 = range(10, 20, 2)\n",
        "lista3 = range(1, 5)\n",
        "lista4 = range(5, -1, -1)\n",
        "\n",
        "print(\"EXEMPLOS: Função range()\\n\")\n",
        "\n",
        "for item in lista1:\n",
        "    print(item) # Para range(5) Saída: [0, 1, 2, 3, 4]\n",
        "\n",
        "print(\"\\n\") \n",
        "    \n",
        "for item in lista2:\n",
        "    print(item) # Para range(10, 20, 2) Saída: [10, 12, 14, 16, 18]\n",
        "\n",
        "print(\"\\n\")     \n",
        "    \n",
        "for item in lista3:\n",
        "    print(item) # Para range(1, 5) Saída: [1, 2, 3, 4]\n",
        "\n",
        "print(\"\\n\")     \n",
        "    \n",
        "for item in lista4:\n",
        "    print(item) # Para range(1, 5) Saída: [1, 2, 3, 4]\n",
        "    \n",
        "    \n",
        "print(\"\\n\")     \n",
        "    \n",
        "    \n",
        "# EXEMPLOS - for, range() e len\n",
        "print(\"EXEMPLOS: for, len() e range()\\n\")\n",
        "\n",
        "\n",
        "# Imprimindo lista de cores\n",
        "cores  = [\"Vermelho\", \"Laranja\", \"Amarelo\", \"Verde\", \"Azul\", \"Anil\", \"Violeta\"]\n",
        "n = len(cores) # a função len() retorna o número de elementos\n",
        "\n",
        "for i in range(n):\n",
        "    print(cores[i])\n",
        "\n",
        "print(\"\\n\")\n",
        "\n",
        "for i in range((n - 1), -1, -1):\n",
        "    print(cores[i])\n",
        "\n",
        "\n",
        "# for aninhado para impressão de um padrão numérico\n",
        "for i in range(10):\n",
        "    for j in range(i):\n",
        "        print(i, end=\" \")    # Imprime o número\n",
        "    print(\"\\n\")              # Adiciona quebra de linha ao final de cada linha"
      ],
      "execution_count": 0,
      "outputs": []
    },
    {
      "cell_type": "markdown",
      "metadata": {
        "id": "0B1lWIkz2g56",
        "colab_type": "text"
      },
      "source": [
        "Assim como o for, a estrutura de repetição while é usada para repetir um trecho de código várias vezes, porém, no while a repetição continua enquanto uma condição lógica definida seja verdadeira (True), veja alguns exemplos abaixo: \n",
        "\n",
        "```python\n",
        "while condicao: # enquanto condição for verdadeira\n",
        "    # Executa algum(ns) comando(s)\n",
        "    # Atualiza variável de controle\n",
        "```"
      ]
    },
    {
      "cell_type": "code",
      "metadata": {
        "id": "sSjSCRv22g5_",
        "colab_type": "code",
        "colab": {}
      },
      "source": [
        "contador = 0                 # Define uma variável de controle que será avaliada na condição\n",
        "\n",
        "while contador < 10:         # enquanto a condição (contador < 10) for verdadeira\n",
        "    print(contador)          # Executa algum comando: print(contador)\n",
        "    contador = contador + 1  # Atualiza a variável de controle\n",
        "    \n",
        "print(\"\\n\")\n",
        "\n",
        "\n",
        "# EXEMPLO: Algoritmo Fatorial Iterativo\n",
        "n = 3\n",
        "i = 1\n",
        "resultado = 1\n",
        "\n",
        "while i <= n:\n",
        "    resultado = resultado * i\n",
        "    i = i + 1\n",
        "    \n",
        "print(\"Fatorial de %d é %d\" % (n, resultado))\n",
        "    "
      ],
      "execution_count": 0,
      "outputs": []
    },
    {
      "cell_type": "markdown",
      "metadata": {
        "id": "HrIRTjue2g6L",
        "colab_type": "text"
      },
      "source": [
        "### Técnicas de Looping\n",
        "\n",
        "1. Ao percorrer dicionários, a chave e o valor, podem ser recuperados ao mesmo tempo através do método *items()*;\n",
        "\n",
        "```python\n",
        "websites = {'site': \"Python Software Foundation\", 'url': \"https://www.python.org/\"}\n",
        "\n",
        "for key, value in websites.items():\n",
        "    print(key, value)\n",
        "    \n",
        "# Saída\n",
        "# site Python Software Foundation\n",
        "# url https://www.python.org/\n",
        "```\n",
        "\n",
        "2. Ao percorrer sequências, índice e o item, podem ser recuperados ao mesmo tempo através do método *enumerate()*;\n",
        "\n",
        "```python\n",
        "rgb = [\"Red\", \"Green\", \"Blue\"]\n",
        "\n",
        "for i, item in enumerate(rgb):\n",
        "    print(i, item)\n",
        "    \n",
        "# Saída\n",
        "# 0 Red\n",
        "# 1 Green\n",
        "# 2 Blue\n",
        "```\n",
        "\n",
        "3. Para percorrer duas ou mais sequências ao mesmo tempo, as entradas podem ser emparelhadas através da função *zip()*;\n",
        "\n",
        "\n",
        "```python\n",
        "condinomes_android = [\"Petit Four\", \"Eclair\",  \"Honeycomb\", \"Ice Cream Sandwich\", \"Lollipop\", \"Marshmallow\", \"Nougat\", \"Oreo\", \"Pie\"]\n",
        "versoes_android = [\"1.1\", \"2.0 – 2.1\", \"3.0 – 3.2.6\", \"4.0 – 4.0.4\", \"5.0 – 5.1.1\", \"6.0 – 6.0.1\", \"7.0 – 7.1.2\", \"8.0 – 8.1\", \"9.0\"]\n",
        "\n",
        "for codinome, versao in zip(condinomes_android, versoes_android):\n",
        "    print(codinome, versao)\n",
        "    \n",
        "# Saída\n",
        "# Petit Four 1.1\n",
        "# Eclair 2.0 – 2.1\n",
        "# Honeycomb 3.0 – 3.2.6\n",
        "# Ice Cream Sandwich 4.0 – 4.0.4\n",
        "# Lollipop 5.0 – 5.1.1\n",
        "# Marshmallow 6.0 – 6.0.1\n",
        "# Nougat 7.0 – 7.1.2\n",
        "# Oreo 8.0 – 8.1\n",
        "# Pie 9.0\n",
        "```\n",
        "\n",
        "4. Para iterar em uma sequência ordenada sem alterar a ordem dos elementos utilize o metodo *sorted()* que irá retornar uma nova lista ordenada sem alterar a original\n",
        "\n",
        "```python\n",
        "estados_sudeste_brasileiro = [\"São Paulo\", \"Rio de Janeiro\", \"Minas Gerais\", \"Espírito Santo\"]\n",
        "\n",
        "for estado in sorted(set(estados_sudeste_brasileiro)):\n",
        "    print(estado)\n",
        "    \n",
        "# Saída\n",
        "# Espírito Santo\n",
        "# Minas Gerais\n",
        "# Rio de Janeiro\n",
        "# São Paulo    \n",
        "    \n",
        "```"
      ]
    },
    {
      "cell_type": "markdown",
      "metadata": {
        "id": "faISNLPu2g6Q",
        "colab_type": "text"
      },
      "source": [
        "## Exercícios"
      ]
    },
    {
      "cell_type": "markdown",
      "metadata": {
        "id": "CkNJVcVG2g6U",
        "colab_type": "text"
      },
      "source": [
        "1. A nota final de um estudante é calculada a partir de três notas atribuídas, respectivamente, a um trabalho\n",
        "de laboratório, a uma avaliação semestral e a um exame final. A média das três notas mencionadas\n",
        "obedece aos pesos a seguir:\n",
        "\n",
        "| Nota                    | Peso |\n",
        "|-------------------------|------|\n",
        "| Trabalho de Laboratório | 2    |\n",
        "| Avaliação Semestral     | 3    |\n",
        "| Exame Final             | 5    |\n",
        "\n",
        "\n",
        "Faça um programa que receba as três notas, calcule e mostre a média ponderada e o conceito que segue\n",
        "a tabela:\n",
        "\n",
        "| Média Ponderada        | Conceito |\n",
        "|------------------------|----------|\n",
        "| 8,00 <= Média <= 10,00 | A        |\n",
        "| 7,00 <= Média < 8,00   | B        |\n",
        "| 6,00 <= Média < 7,00   | C        |\n",
        "| 5,00 <= Média < 6,00   | D        |\n",
        "| 0,00 <= Média < 5,00   | E        |\n",
        "\n"
      ]
    },
    {
      "cell_type": "code",
      "metadata": {
        "id": "b1-Rlzlp2g6a",
        "colab_type": "code",
        "outputId": "bdb21152-b0da-4d36-dd6b-e365ce8ae1da",
        "colab": {
          "base_uri": "https://localhost:8080/",
          "height": 86
        }
      },
      "source": [
        "nota1 = float(input(\"Nota 1: \"))\n",
        "nota2 = float(input(\"Nota 2: \"))\n",
        "nota3 = float(input(\"Nota 3: \"))\n",
        "peso1 = 2\n",
        "peso2 = 3\n",
        "peso3 = 5\n",
        "result = ((nota1*peso1) + (nota2*peso2) + (nota3*peso3))/ (peso1+peso2+peso3)\n",
        "if (result <= 5):\n",
        "  print (str(result) + \" - Conceito: E\" )\n",
        "if (result <= 6 and result > 5):\n",
        "  print (str(result) + \" - Conceito: D\" )\n",
        "if (result <= 7 and result > 6):\n",
        "  print (str(result) + \" - Conceito: C\" )\n",
        "if (result <= 8 and result > 7):\n",
        "  print (str(result) + \" - Conceito: B\" )\n",
        "if (result <= 10 and result > 8):\n",
        "  print (str(result) + \" - Conceito: A\" )\n",
        "\n"
      ],
      "execution_count": 1,
      "outputs": [
        {
          "output_type": "stream",
          "text": [
            "Nota 1: 7\n",
            "Nota 2: 5\n",
            "Nota 3: 9\n",
            "7.4 - Conceito: B\n"
          ],
          "name": "stdout"
        }
      ]
    },
    {
      "cell_type": "markdown",
      "metadata": {
        "id": "GuibwV542g6j",
        "colab_type": "text"
      },
      "source": [
        "2. Faça um programa que receba três notas de um aluno, calcule e mostre a média aritmética e a mensagem constante na tabela a seguir. \n",
        "\n",
        "| Média                  | Situação       |\n",
        "|------------------------|----------------|\n",
        "| 7,00 <= Média <= 10,00 | Aprovado       |\n",
        "| 3,00 <= Média < 7,00   | Exame Especial |\n",
        "| 0,00 <= Média < 3,00   | Reprovado      |"
      ]
    },
    {
      "cell_type": "code",
      "metadata": {
        "id": "zQqzblQ92g6m",
        "colab_type": "code",
        "outputId": "7a932097-0ba4-4967-c65d-2f825766e8ef",
        "colab": {
          "base_uri": "https://localhost:8080/",
          "height": 85
        }
      },
      "source": [
        "nota1 = float(input(\"Nota 1: \"))\n",
        "nota2 = float(input(\"Nota 2: \"))\n",
        "nota3 = float(input(\"Nota 3: \"))\n",
        "result = (nota1 + nota2 + nota3)/ 3\n",
        "if (result <= 3):\n",
        "  print (str(result) + \" - REPROVADO\" )\n",
        "if (result <= 7 and result > 3):\n",
        "  print (str(result) + \" - EXAME ESPECIAL\" )\n",
        "if (result <= 10 and result > 7):\n",
        "  print (str(result) + \" - APROVADO\" )\n"
      ],
      "execution_count": 0,
      "outputs": [
        {
          "output_type": "stream",
          "text": [
            "Nota 1: 4\n",
            "Nota 2: 7\n",
            "Nota 3: 2\n",
            "4.333333333333333 - EXAME ESPECIAL\n"
          ],
          "name": "stdout"
        }
      ]
    },
    {
      "cell_type": "markdown",
      "metadata": {
        "id": "r9ElNqmT2g6w",
        "colab_type": "text"
      },
      "source": [
        "3. Faça um programa que receba dois números e mostre o maior."
      ]
    },
    {
      "cell_type": "code",
      "metadata": {
        "id": "unpjI6IK2g6z",
        "colab_type": "code",
        "outputId": "dc578771-a49c-4e16-e78e-e9e76684313a",
        "colab": {
          "base_uri": "https://localhost:8080/",
          "height": 68
        }
      },
      "source": [
        "num1 = int(input(\"Digite o primeiro número: \"))\n",
        "num2 = int(input(\"Digite o segundo número: \"))\n",
        "if (num1 > num2):\n",
        "  print(num1)\n",
        "else:\n",
        "  print(num2)"
      ],
      "execution_count": 0,
      "outputs": [
        {
          "output_type": "stream",
          "text": [
            "Digite o primeiro número: 1435\n",
            "Digite o segundo número: 23\n",
            "1435\n"
          ],
          "name": "stdout"
        }
      ]
    },
    {
      "cell_type": "markdown",
      "metadata": {
        "id": "IV8pDR0J2g66",
        "colab_type": "text"
      },
      "source": [
        "4. Faça um programa que receba um número inteiro e verifique se é par ou ímpar."
      ]
    },
    {
      "cell_type": "code",
      "metadata": {
        "id": "sacgZMk02g69",
        "colab_type": "code",
        "outputId": "24145d05-601f-40d5-c567-4e5590058670",
        "colab": {
          "base_uri": "https://localhost:8080/",
          "height": 68
        }
      },
      "source": [
        "num = int(input(\"Digite o primeiro número: \"))\n",
        "num2 = num % 2\n",
        "if (num2 != 0):\n",
        "  print(\"Ímpar\")\n",
        "else: \n",
        "  print (\"Par\")"
      ],
      "execution_count": 0,
      "outputs": [
        {
          "output_type": "stream",
          "text": [
            "Digite o primeiro número: 11785\n",
            "1\n",
            "Ímpar\n"
          ],
          "name": "stdout"
        }
      ]
    },
    {
      "cell_type": "markdown",
      "metadata": {
        "id": "w5vgdQ1U2g7G",
        "colab_type": "text"
      },
      "source": [
        "5. Faça um programa que mostre o menu de opções a seguir, receba a opção do usuário e os dados necessários para executar cada operação.\n",
        "\n",
        "Menu de opções:\n",
        "\n",
        "1. Somar dois números.\n",
        "2. Raiz quadrada de um número.\n",
        "\n",
        "Digite a opção desejada:"
      ]
    },
    {
      "cell_type": "code",
      "metadata": {
        "id": "5CJmVulH2g7M",
        "colab_type": "code",
        "outputId": "b0ec94a8-5ffc-4f3c-d9c7-432a840a7731",
        "colab": {
          "base_uri": "https://localhost:8080/",
          "height": 85
        }
      },
      "source": [
        "option = float(input(\"Digite:\\n1 para Somar dois números.\\n2 para Raiz quadrada de um número.\"))\n",
        "if (option == 1):\n",
        "  num1 = float(input(\"Digite o primeiro número: \"))\n",
        "  num2 = float(input(\"Digite o segundo número: \"))\n",
        "  result = num1 + num2\n",
        "  print(result)\n",
        "elif(option == 2):\n",
        "  num = float(input(\"Digite o número a ser calculado: \"))\n",
        "  result = num ** (1/2)\n",
        "  print(result)\n",
        "elif(option != 1 and option != 2):\n",
        "  print(\"Função não permitida\")\n",
        "  "
      ],
      "execution_count": 0,
      "outputs": [
        {
          "output_type": "stream",
          "text": [
            "Digite:\n",
            "1 para Somar dois números.\n",
            "2 para Raiz quadrada de um número.5\n",
            "Função não permitida\n"
          ],
          "name": "stdout"
        }
      ]
    },
    {
      "cell_type": "markdown",
      "metadata": {
        "id": "PQNWSAau2g7a",
        "colab_type": "text"
      },
      "source": [
        "6. Faça um programa que receba o código correspondente ao cargo de um funcionário e seu salário atual e mostre o cargo, o valor do aumento e seu novo salário. Os cargos estão na tabela a seguir.\n",
        "\n",
        "| Código | Cargo       | Percentual  |\n",
        "|--------|-------------|-------------|\n",
        "| 1      | Escrituário | 50%         |\n",
        "| 2      | Secretário  | 35%         |\n",
        "| 3      | Caixa       | 20%         |\n",
        "| 4      | Gerente     | 10%         |\n",
        "| 5      | Diretor     | Sem Aumento |"
      ]
    },
    {
      "cell_type": "code",
      "metadata": {
        "id": "VOw74wFF2g7d",
        "colab_type": "code",
        "outputId": "4abbad9e-e32c-4f26-8eb9-d607fa8ec6c5",
        "colab": {
          "base_uri": "https://localhost:8080/",
          "height": 170
        }
      },
      "source": [
        "option = float(input(\"Escolha o novo cargo digitando:\\n1 para Escrituário\\n2 para Secretário\\n3 para Caixa\\n4 para Gerente\\n5 para Diretor\\n\"))\n",
        "if (option == 1):\n",
        "  salario = float(input(\"Digite o valor do salário: \"))\n",
        "  percentual = 0.5\n",
        "  result = salario + (salario*percentual)\n",
        "  print(\"Funcionário: R$\" + str(salario) +  \"> Escrituário: R$\" + str(result))\n",
        "elif(option == 2):\n",
        "  salario = float(input(\"Digite o valor do salário: \"))\n",
        "  percentual = 0.35\n",
        "  result = salario + (salario*percentual)\n",
        "  print(\"Funcionário: R$\" + str(salario) +  \"> Secretário: R$\" + str(result))\n",
        "elif(option == 3):\n",
        "  salario = float(input(\"Digite o valor do salário: \"))\n",
        "  percentual = 0.2\n",
        "  result = salario + (salario*percentual)\n",
        "  print(\"Funcionário: R$\" + str(salario) +  \"> Caixa: R$\" + str(result))\n",
        "elif(option == 4):\n",
        "  salario = float(input(\"Digite o valor do salário: \"))\n",
        "  percentual = 0.1\n",
        "  result = salario + (salario*percentual)\n",
        "  print(\"Funcionário: R$\" + str(salario) +  \"> Gerente: R$\" + str(result))\n",
        "elif(option == 5):\n",
        "  salario = float(input(\"Digite o valor do salário: \"))\n",
        "  print(\"Funcionário: R$\" + str(salario) +  \"> Diretor: R$\" + str(salario))\n",
        "  "
      ],
      "execution_count": 0,
      "outputs": [
        {
          "output_type": "stream",
          "text": [
            "Escolha o novo cargo digitando:\n",
            "1 para Escrituário\n",
            "2 para Secretário\n",
            "3 para Caixa\n",
            "4 para Gerente\n",
            "5 para Diretor\n",
            "5\n",
            "Digite o valor do salário: 1000\n",
            "Funcionário: R$1000.0> Diretor: R$1000.0\n"
          ],
          "name": "stdout"
        }
      ]
    },
    {
      "cell_type": "markdown",
      "metadata": {
        "id": "b77HLsHE2g7l",
        "colab_type": "text"
      },
      "source": [
        "7. Faça um programa que receba o salário inicial de um funcionário, calcule e mostre o novo salário, acrescido de bonificação e de auxílio escola.\n",
        "\n",
        "| Salário                      | Bonificação     |\n",
        "|------------------------------|-----------------|\n",
        "| Até R\\\\$500,00                 | 5% do salário  |\n",
        "| Entre R\\\\$500,00 e R\\$1.1200,00 | 12% do salário  \n",
        "| Acima de R\\\\$1.200,00          | Sem Bonificação |\n",
        "\n",
        "| Salário           | Auxílio Escola |\n",
        "|-------------------|----------------|\n",
        "| Até R\\\\$600,00      | R\\\\$150,00       |\n",
        "| Acima de R\\\\$600,00 | R\\\\$100,00       |"
      ]
    },
    {
      "cell_type": "code",
      "metadata": {
        "id": "dnXaxAxF2g7n",
        "colab_type": "code",
        "colab": {
          "base_uri": "https://localhost:8080/",
          "height": 51
        },
        "outputId": "c8d607b2-f8bb-4d80-d420-cb4908a85c8b"
      },
      "source": [
        "salario = int(input(\"Digite o valor do salário: \"))\n",
        "if(salario < 0):\n",
        "  print(\"Esse funcionário está devendo à empresa\")\n",
        "elif(salario > 0 and salario <= 500):\n",
        "  salario = salario * 0.05 + salario\n",
        "  salario = salario + 150\n",
        "  print(salario)\n",
        "elif(salario > 500 and salario < 1200):\n",
        "  if (salario <= 600 and salario > 500):\n",
        "    salario = salario * 0.12 + salario\n",
        "    salario = salario + 150\n",
        "    print(salario)\n",
        "  elif (salario > 600):\n",
        "    salario = salario * 0.12 + salario\n",
        "    salario = salario + 100\n",
        "    print(salario)\n",
        "elif(salario > 1200):\n",
        "  salario = salario + 100\n",
        "  print(salario)"
      ],
      "execution_count": 18,
      "outputs": [
        {
          "output_type": "stream",
          "text": [
            "Digite o valor do salário: 600\n",
            "822.0\n"
          ],
          "name": "stdout"
        }
      ]
    },
    {
      "cell_type": "markdown",
      "metadata": {
        "id": "hFr8vHzC2g7v",
        "colab_type": "text"
      },
      "source": [
        "8. Um supermercado deseja reajustar os preços de seus produtos usando o seguinte critério: o produto poderá ter seu preço aumentado ou diminuído. Para o preço ser alterado, o produto deve preencher pelo menos um dos requisitos a seguir:\n",
        "\n",
        "| Venda Média Mensal | Preço Atual             | % de Aumento | % de Diminuição |\n",
        "|--------------------|-------------------------|--------------|-----------------|\n",
        "| < 500              | < R\\\\$ 30,00              | 10           | -               |\n",
        "| >= 500 e < 1.200   | >= R\\\\$30,00 e < R\\\\$ 80,00 | 15           | -               |\n",
        "| >= 1.200           | >= R\\\\$80,00              | -            | 20              |"
      ]
    },
    {
      "cell_type": "code",
      "metadata": {
        "id": "nEIvaYtp2g7x",
        "colab_type": "code",
        "colab": {
          "base_uri": "https://localhost:8080/",
          "height": 69
        },
        "outputId": "31eba032-151e-47a3-8b7a-5c258e0020c5"
      },
      "source": [
        "preco = float(input(\"Digite o valor do produto: \"))\n",
        "venda = int(input (\"Digite a quantidade de venda mensal do produto: \"))\n",
        "if(venda < 500 and preco < 30):\n",
        "  preco = preco*0.10+preco\n",
        "  print(\"O valor do produto foi alterado para: \" + str(preco))\n",
        "elif(venda >= 500 and preco >= 30 and preco < 80):\n",
        "  preco = preco*0.15+preco\n",
        "  print(\"O valor do produto foi alterado para: \" + str(preco))\n",
        "elif(venda >= 1200 and preco >= 80):\n",
        "  preco = preco-(preco*0.20)\n",
        "  print(\"O valor do produto foi alterado para: \" + str(preco))\n",
        "else:\n",
        "  print(\"O valor do produto continua sendo: \" + str(preco))"
      ],
      "execution_count": 27,
      "outputs": [
        {
          "output_type": "stream",
          "text": [
            "Digite o valor do produto: 50\n",
            "Digite a quantidade de venda mensal do produto: 200\n",
            "O valor do produto continua sendo: 50.0\n"
          ],
          "name": "stdout"
        }
      ]
    },
    {
      "cell_type": "markdown",
      "metadata": {
        "id": "EsAPo2l42g78",
        "colab_type": "text"
      },
      "source": [
        "9. Faça um programa para resolver equações do 2º grau.\n",
        "\n",
        "$$\n",
        "a^{2} + bx + c = 0\n",
        "$$\n",
        "\n",
        "\n",
        "Onde x é uma variável, sendo a, b e c constantes, com a ≠ 0 \n",
        "\n",
        "\n",
        "$$\n",
        "\\Delta = b^{2} - 4ac\n",
        "$$\n",
        "\n",
        "$$\n",
        "\\Delta < 0 \\rightarrow não \\: existe  \\: raiz  \\: real\n",
        "$$\n",
        "\n",
        "$$\n",
        "\\Delta = 0 \\rightarrow  existe  \\: raiz  \\: real\n",
        "$$\n",
        "\n",
        "$$\n",
        "x = \\frac{-b}{2a}\n",
        "$$\n",
        "\n",
        "\n",
        "\n",
        "$$\n",
        "\\Delta > 0 \\rightarrow existem \\: duas  \\: raizes  \\: reais\n",
        "$$\n",
        "\n",
        "\n",
        "$$\n",
        "x_1 = \\frac{-b \\: + \\: \\sqrt{\\Delta } }{2a}\n",
        "$$\n",
        "\n",
        "$$\n",
        "x_2 = \\frac{-b \\: - \\: \\sqrt{\\Delta } }{2a}\n",
        "$$"
      ]
    },
    {
      "cell_type": "code",
      "metadata": {
        "id": "i6nkMxRp2g8C",
        "colab_type": "code",
        "colab": {
          "base_uri": "https://localhost:8080/",
          "height": 103
        },
        "outputId": "9a8b97ab-98c1-49fb-f54c-8c8514ddaae8"
      },
      "source": [
        "a = float(input(\"Digite o valor de 'a', que seja diferente de 0: \"))\n",
        "if(a == 0):\n",
        "  print(\"Valor deve ser diferente de 0\")\n",
        "b = float(input(\"Digite o valor de 'b', que seja diferente de 0: \"))\n",
        "if(b == 0):\n",
        "  print(\"Valor deve ser diferente de 0\")\n",
        "c = float(input(\"Digite o valor de 'c', que seja diferente de 0: \"))\n",
        "if(c == 0):\n",
        "  print(\"Valor deve ser diferente de 0\")\n",
        "\n",
        "delta = (b**2) - (4*a *c)\n",
        "if(delta < 0):\n",
        "  print(\"Não existe raiz real\")\n",
        "elif (delta == 0):\n",
        "  x = -b/2*a\n",
        "  print(\"x = \" + str(x))\n",
        "  print(\"Existe raiz real\")\n",
        "elif (delta > 0):\n",
        "  x1 = ((-b + (delta**(1/2)))/(2*a))\n",
        "  x2 = ((-b - (delta**(1/2)))/(2*a))\n",
        "  print(\"x1 = \" + str(x1))\n",
        "  print(\"x2 = \" + str(x2))\n",
        "\n"
      ],
      "execution_count": 12,
      "outputs": [
        {
          "output_type": "stream",
          "text": [
            "Digite o valor de 'a', que seja diferente de 0 2\n",
            "Digite o valor de 'b', que seja diferente de 0 9\n",
            "Digite o valor de 'c', que seja diferente de 0 7\n",
            "x1 = -1.0\n",
            "x2 = -3.5\n"
          ],
          "name": "stdout"
        }
      ]
    },
    {
      "cell_type": "markdown",
      "metadata": {
        "id": "_TqYJ7mi2g8I",
        "colab_type": "text"
      },
      "source": [
        "10. Dados três valores X, Y e Z, verifique se eles podem ser os comprimentos dos lados de um triângulo e, se forem, verifique se é um triângulo equilátero, isósceles ou escaleno. Se eles não formarem um triângulo, escreva uma mensagem. Considere que:\n",
        "\n",
        "- O comprimento de cada lado de um triângulo é menor que a soma dos outros dois lados;\n",
        "- Chama-se equilátero o triângulo que tem três lados iguais;\n",
        "- Denomina-se isósceles o triângulo que tem o comprimento de dois lados iguais;\n",
        "- Recebe o nome de escaleno o triângulo que tem os três lados diferentes."
      ]
    },
    {
      "cell_type": "code",
      "metadata": {
        "id": "olZz-0yA2g8N",
        "colab_type": "code",
        "colab": {
          "base_uri": "https://localhost:8080/",
          "height": 86
        },
        "outputId": "886e2b84-c3bf-4db7-ab9f-87afc81d88e0"
      },
      "source": [
        "primeiro = float(input(\"Digite o comprimento do primeiro lado do triângulo: \"))\n",
        "segundo = float(input(\"Digite o comprimento do segundo lado do triângulo: \"))\n",
        "terceiro = float(input(\"Digite o comprimento do terceiro lado do triângulo: \"))\n",
        "if (primeiro >= segundo+terceiro or segundo >= primeiro+terceiro or terceiro >= segundo+primeiro):\n",
        "  print(\"Não forma um triangulo\")\n",
        "elif(primeiro == segundo and primeiro == terceiro):\n",
        "  print(\"Triangulo equilátero\")\n",
        "elif(primeiro != segundo and primeiro != terceiro and segundo != terceiro):\n",
        "  print(\"Triangulo escaleno\")\n",
        "else:\n",
        "  print(\"Triangulo isósceles\")\n"
      ],
      "execution_count": 21,
      "outputs": [
        {
          "output_type": "stream",
          "text": [
            "Digite o comprimento do primeiro lado do triângulo: 5\n",
            "Digite o comprimento do segundo lado do triângulo: 5\n",
            "Digite o comprimento do terceiro lado do triângulo: 4\n",
            "Triangulo isósceles\n"
          ],
          "name": "stdout"
        }
      ]
    },
    {
      "cell_type": "markdown",
      "metadata": {
        "id": "V5rV-5yb2g8W",
        "colab_type": "text"
      },
      "source": [
        "11. Faça um programa que receba a altura e o peso de uma pessoa. De acordo com a tabela a seguir, verifique e mostre a classificação dessa pessoa.\n",
        "\n",
        "| Altura           | Peso até 60 | Peso entre 60 e 90 (Inclusive) | Peso Acima de 90 |\n",
        "|------------------|-------------|--------------------------------|------------------|\n",
        "| Menores que 1,20 | A           | D                              | G                |\n",
        "| De 1,20 a 1,70   | B           | E                              | H                |\n",
        "| Maiores que 1,70 | C           | F                              | I                |"
      ]
    },
    {
      "cell_type": "code",
      "metadata": {
        "id": "CWsRQwNF2g8Y",
        "colab_type": "code",
        "colab": {
          "base_uri": "https://localhost:8080/",
          "height": 69
        },
        "outputId": "7959b526-e026-4de6-b3bb-c8c1a50371e9"
      },
      "source": [
        "altura = int(input(\"Digite a altura em centimetros: \"))\n",
        "peso = int(input(\"Digite o peso em quilos: \"))\n",
        "if(altura <= 120 and peso <= 60):\n",
        "  print(\"A\")\n",
        "elif(altura > 120 and altura <= 170 and peso <=60):\n",
        "  print(\"B\")\n",
        "elif(altura > 170 and peso <=60):\n",
        "  print(\"C\")\n",
        "elif(altura <= 120 and peso > 60 and peso <= 90):\n",
        "  print(\"D\")\n",
        "elif(altura > 120 and altura <= 170 and peso > 60 and peso <= 90):\n",
        "  print(\"E\")\n",
        "elif(altura > 170 and peso > 60 and peso <= 90):\n",
        "  print(\"F\")\n",
        "elif(altura <= 120 and peso > 90):\n",
        "  print(\"G\")\n",
        "elif(altura > 120 and altura <= 170 and peso > 90):\n",
        "  print(\"H\")\n",
        "elif(altura > 170 and peso > 90):\n",
        "  print(\"I\")"
      ],
      "execution_count": 22,
      "outputs": [
        {
          "output_type": "stream",
          "text": [
            "Digite a altura em centimetros: 165\n",
            "Digite o peso em quilos: 55\n",
            "B\n"
          ],
          "name": "stdout"
        }
      ]
    },
    {
      "cell_type": "markdown",
      "metadata": {
        "id": "xPPysdVn2g8h",
        "colab_type": "text"
      },
      "source": [
        "12. Faça um programa que receba:\n",
        "\n",
        "- O código de um produto comprado, supondo que a digitação do código do produto seja sempre válida, isto é, um número inteiro entre 1 e 10.\n",
        "- O peso do produto em quilos.\n",
        "- O código do país de origem, supondo que a digitação do código seja sempre válida, isto é, um número inteiro entre 1 e 3. \n",
        "\n",
        "Tabelas:\n",
        "\n",
        "| Código do País de Origem | Imposto |\n",
        "|--------------------------|---------|\n",
        "| 1                        | 0%      |\n",
        "| 2                        | 15%     |\n",
        "| 3                        | 25%     |\n",
        "\n",
        "\n",
        "| Código do Produto | Preço por Grama |\n",
        "|-------------------|-----------------|\n",
        "| 1 a 4             | 10              |\n",
        "| 5 a 7             | 25              |\n",
        "| 8 a 10            | 35              |"
      ]
    },
    {
      "cell_type": "code",
      "metadata": {
        "id": "fiaq1E762g8j",
        "colab_type": "code",
        "colab": {
          "base_uri": "https://localhost:8080/",
          "height": 86
        },
        "outputId": "87460d4a-49e6-4bc9-8146-ad09ef489c1e"
      },
      "source": [
        "codigopro = int(input(\"Digite o código do produto de 1 a 10: \"))\n",
        "if(codigopro < 1 or codigopro > 10):\n",
        "  print(\"Falha na verificação\")\n",
        "codigopa = int(input(\"Digite código do País de origem de 1 a 3: \"))\n",
        "if(codigopa < 1 or codigopa > 3):\n",
        "  print(\"Falha na verificação\")\n",
        "peso = int(input(\"Digite o peso em quilos: \"))\n",
        "if(codigopro >=1 and codigopro <=4):\n",
        "  valor = peso*10000\n",
        "elif(codigopro >=5 and codigopro <=7):\n",
        "  valor = peso*25000\n",
        "elif(codigopro >=8 and codigopro <=10):\n",
        "  valor = peso*35000\n",
        "if (codigopa == 2):\n",
        "  valor = valor*0.15+valor\n",
        "  print(valor)\n",
        "elif (codigopa == 3):\n",
        "  valor = valor*0.25+valor\n",
        "  print(valor)\n",
        "else:\n",
        "  print(valor)\n"
      ],
      "execution_count": 26,
      "outputs": [
        {
          "output_type": "stream",
          "text": [
            "Digite o código do produto de 1 a 10: 6\n",
            "Digite código do País de origem de 1 a 3: 2\n",
            "Digite o peso em quilos: 1\n",
            "28750.0\n"
          ],
          "name": "stdout"
        }
      ]
    },
    {
      "cell_type": "markdown",
      "metadata": {
        "id": "rHnCi51d2g8q",
        "colab_type": "text"
      },
      "source": [
        "13. Escreva um programa que calcule o quadrado e o cubo dos números de 0 a 10, e imprima os valores em forma de tabela. Número | Quadrado | Cubo"
      ]
    },
    {
      "cell_type": "code",
      "metadata": {
        "id": "HxPRzHrZ2g83",
        "colab_type": "code",
        "colab": {
          "base_uri": "https://localhost:8080/",
          "height": 225
        },
        "outputId": "a314c0f2-a058-4409-9ffd-94a20a0bb6f6"
      },
      "source": [
        "print(str(0) + \" | \" + str(0**2)  + \" | \" + str(0**3) +\"\\n\" + str(1) + \" | \" + str(1**2)  + \" | \" + str(1**3) +\"\\n\" + str(2) + \" | \" + str(2**2)  + \" | \" + str(2**3) +\"\\n\" + str(3) + \" | \" + str(3**2)  + \" | \" + str(3**3) +\"\\n\" + str(4) + \" | \" + str(4**2)  + \" | \" + str(4**3) +\"\\n\" + str(5) + \" | \" + str(5**2)  + \" | \" + str(5**3) +\"\\n\" + str(6) + \" | \" + str(6**2)  + \" | \" + str(6**3) +\"\\n\" + str(7) + \" | \" + str(7**2)  + \" | \" + str(7**3) +\"\\n\" + str(8) + \" | \" + str(8**2)  + \" | \" + str(8**3) +\"\\n\" + str(9) + \" | \" + str(9**2)  + \" | \" + str(9**3) +\"\\n\" + str(10) + \" | \" + str(10**2)  + \" | \" + str(10**3) +\"\\n\")"
      ],
      "execution_count": 37,
      "outputs": [
        {
          "output_type": "stream",
          "text": [
            "0 | 0 | 0\n",
            "1 | 1 | 1\n",
            "2 | 4 | 8\n",
            "3 | 9 | 27\n",
            "4 | 16 | 64\n",
            "5 | 25 | 125\n",
            "6 | 36 | 216\n",
            "7 | 49 | 343\n",
            "8 | 64 | 512\n",
            "9 | 81 | 729\n",
            "10 | 100 | 1000\n",
            "\n"
          ],
          "name": "stdout"
        }
      ]
    },
    {
      "cell_type": "markdown",
      "metadata": {
        "id": "r4IWOMkl2g8-",
        "colab_type": "text"
      },
      "source": [
        "14. Um funcionário de uma empresa recebe, anualmente, aumento salarial. Sabe-se que:\n",
        "\n",
        "- Esse funcionário foi contratado em 2005, com salário inicial de R\\\\$ 1.000,00.\n",
        "- Em 2006, ele recebeu aumento de 1,5% sobre seu salário inicial.\n",
        "- A partir de 2007 (inclusive), os aumentos salariais sempre corresponderam ao dobro do percentual do ano anterior.\n",
        "\n",
        "Faça um programa que determine o salário atual desse funcionário."
      ]
    },
    {
      "cell_type": "code",
      "metadata": {
        "id": "OBuZ4il62g9A",
        "colab_type": "code",
        "colab": {}
      },
      "source": [
        "salario = 1000\n",
        "aumento = 0.015\n",
        "novoaumento = aumento*2\n",
        "for i in range(14):\n",
        "  while novoaumento < 245.760:\n",
        "    novoaumento*2\n",
        "novosalario = salario * novoaumento\n",
        "\n",
        "d2020 = 245.760\n",
        "\n"
      ],
      "execution_count": 0,
      "outputs": []
    },
    {
      "cell_type": "markdown",
      "metadata": {
        "id": "5k8dCqDr2g9H",
        "colab_type": "text"
      },
      "source": [
        "15. Foi feita uma pesquisa para determinar o índice de mortalidade infantil em certo período. Faça um programa que:\n",
        "\n",
        "- Leia o número de crianças nascidas no período;\n",
        "- Identifique o sexo (M ou F) e o tempo de vida de cada criança nascida.\n",
        "\n",
        "O programa deve calcular e mostrar:\n",
        "\n",
        "- A porcentagem de crianças do sexo feminino mortas no período;\n",
        "- A porcentagem de crianças do sexo masculino mortas no período;\n",
        "- A porcentagem de crianças que viveram 24 meses ou menos no período."
      ]
    },
    {
      "cell_type": "code",
      "metadata": {
        "id": "x72teRMR2g9J",
        "colab_type": "code",
        "colab": {
          "base_uri": "https://localhost:8080/",
          "height": 155
        },
        "outputId": "64a190e4-0344-4275-eaf3-217d97604c1f"
      },
      "source": [
        "nasc = int(input(\"Digite o número de crianças morreram em 2019: \"))\n",
        "menor = int(input(\"Quantas viveram 24 meses ou menos?:\"))\n",
        "mof = int(input(\"Quantos eram macho?: \"))\n",
        "if(mof < 0 or mof > nasc):\n",
        "  print(\"Ocorreu algum erro, tente denovo.\")\n",
        "else:\n",
        "  print(\"O número de machos é de: \" + str(mof) + \"\\nO número de fêmeas é de: \" + str(nasc-mof))\n",
        "porcf = int(((nasc-mof)*100)/nasc)\n",
        "porcm = int((mof*100/nasc))\n",
        "porcmorte = int((menor*100/nasc))\n",
        "if(float(porcf)-int(porcf) > float(porcm)-int(porcm)):\n",
        "  porcf = porcf + 1\n",
        "elif(float(porcf)-int(porcf) < float(porcm)-int(porcm)):\n",
        "  porcm = porcm + 1\n",
        "elif(float(porcf)-int(porcf) == float(porcm)-int(porcm)):\n",
        "  porcm = porcm + 0.5\n",
        "  porcf = porcf + 0.5\n",
        "\n",
        "print(\"\\nViveram menos que 24 meses: \" + str(porcmorte) + \"%\")\n",
        "print(\"Machos: \" + str(porcm) + \"%\")\n",
        "print(\"Fêmeas: \" + str(porcf) + \"%\")"
      ],
      "execution_count": 52,
      "outputs": [
        {
          "output_type": "stream",
          "text": [
            "Digite o número de crianças morreram em 2019: 500\n",
            "Quantas viveram 24 meses ou menos?:120\n",
            "Quantos eram macho?: 240\n",
            "O número de machos é de: 240\n",
            "O número de fêmeas é de: 260\n",
            "Viveram menos que 24 meses: 24%\n",
            "Machos: 48.5%\n",
            "Fêmeas: 52.5%\n"
          ],
          "name": "stdout"
        }
      ]
    },
    {
      "cell_type": "markdown",
      "metadata": {
        "id": "VHqCF2E42g9P",
        "colab_type": "text"
      },
      "source": [
        "16. Faça um programa que receba duas notas de seis alunos. Calcule e mostre:\n",
        "\n",
        "- A média aritmética das duas notas de cada aluno; e\n",
        "- A mensagem que está na tabela a seguir:\n",
        "- O total de alunos aprovados;\n",
        "- O total de alunos de exame;\n",
        "- O total de alunos reprovados;\n",
        "- A média da classe.\n",
        "\n",
        "| Média Aritmética | Situação       |\n",
        "|------------------|----------------|\n",
        "| Entre 0 e 29     | Reprovado      |\n",
        "| Entre 30 e 69    | Exame Especial |\n",
        "| Entre 70 e 100   | Aprovado       |\n"
      ]
    },
    {
      "cell_type": "code",
      "metadata": {
        "id": "vJBmqVaC2g9R",
        "colab_type": "code",
        "colab": {
          "base_uri": "https://localhost:8080/",
          "height": 106
        },
        "outputId": "ce17769a-fcef-419c-b0c2-45156462fa0b"
      },
      "source": [
        "aluno1 = int(input(\"Digite as notas do primeiro aluno\\n\"))\n",
        "aluno1a = input()\n",
        "aluno2 = int(input(\"Digite as notas do segundo aluno\\n\"))\n",
        "aluno2a = input()\n",
        "aluno3 = int(input(\"Digite as notas do terceiro aluno\\n\"))\n",
        "aluno3a = input()\n",
        "aluno4 = int(input(\"Digite as notas do quarto aluno\\n\"))\n",
        "aluno4a = input()\n",
        "aluno5 = int(input(\"Digite as notas do quinto aluno\\n\"))\n",
        "aluno5a = input()\n",
        "aluno6 = int(input(\"Digite as notas do sexto aluno\\n\"))\n",
        "aluno6a = input()\n",
        "media1 = (aluno1 + aluno1a)/2\n",
        "media2 = (aluno2 + aluno2a)/2\n",
        "media3 = (aluno3 + aluno3a)/2\n",
        "media4 = (aluno4 + aluno4a)/2\n",
        "media5 = (aluno5 + aluno5a)/2\n",
        "media6 = (aluno6 + aluno6a)/2\n",
        "if(media1)"
      ],
      "execution_count": 0,
      "outputs": [
        {
          "output_type": "stream",
          "text": [
            "Digite as notas do primeiro aluno\n",
            "7\n",
            "5\n"
          ],
          "name": "stdout"
        }
      ]
    },
    {
      "cell_type": "markdown",
      "metadata": {
        "id": "kMv9UrfG2g9a",
        "colab_type": "text"
      },
      "source": [
        "17. Faça um programa para calcular a área de um triângulo e que não permita a entrada de dados inválidos, ou seja, medidas menores ou iguais a 0."
      ]
    },
    {
      "cell_type": "code",
      "metadata": {
        "id": "vRCiGzXm2g9h",
        "colab_type": "code",
        "colab": {}
      },
      "source": [
        ""
      ],
      "execution_count": 0,
      "outputs": []
    },
    {
      "cell_type": "markdown",
      "metadata": {
        "id": "sDXysxbg2g9q",
        "colab_type": "text"
      },
      "source": [
        "18. Faça um programa que leia um conjunto não determinado de valores e mostre o valor lido, seu quadrado, seu cubo e sua raiz quadrada. Finalize a entrada de dados com um valor negativo ou zero."
      ]
    },
    {
      "cell_type": "code",
      "metadata": {
        "id": "YAQDOz402g9w",
        "colab_type": "code",
        "colab": {}
      },
      "source": [
        ""
      ],
      "execution_count": 0,
      "outputs": []
    },
    {
      "cell_type": "markdown",
      "metadata": {
        "id": "4ATAelOs2g93",
        "colab_type": "text"
      },
      "source": [
        "19. Faça um programa que leia um número não determinado de pares de valores [m,n], todos inteiros e positivos, um par de cada vez, e que calcule e mostre a soma de todos os números inteiros entre m e n (inclusive). A digitação de pares terminará quando m for maior ou igual a n."
      ]
    },
    {
      "cell_type": "code",
      "metadata": {
        "id": "rO-bq9qe2g96",
        "colab_type": "code",
        "colab": {}
      },
      "source": [
        ""
      ],
      "execution_count": 0,
      "outputs": []
    },
    {
      "cell_type": "markdown",
      "metadata": {
        "id": "Ry1CzvVc2g-E",
        "colab_type": "text"
      },
      "source": [
        "20. Faça um programa que receba vários números, calcule e mostre:\n",
        "\n",
        "    - A soma dos números digitados;\n",
        "    - A quantidade de números digitados;\n",
        "    - A média dos números digitados;\n",
        "    - O maior número digitado;\n",
        "    - O menor número digitado;\n",
        "    - A média dos números pares;\n",
        "    - A porcentagem dos números ímpares entre todos os números digitados.\n",
        "\n",
        "Finalize a entrada de dados com a digitação do número 0."
      ]
    },
    {
      "cell_type": "code",
      "metadata": {
        "id": "qbxTc73d2g-I",
        "colab_type": "code",
        "colab": {}
      },
      "source": [
        ""
      ],
      "execution_count": 0,
      "outputs": []
    }
  ]
}